{
 "cells": [
  {
   "cell_type": "code",
   "execution_count": null,
   "id": "22d92e7f",
   "metadata": {
    "vscode": {
     "languageId": "plaintext"
    }
   },
   "outputs": [],
   "source": [
    "!pip install mlflow"
   ]
  },
  {
   "cell_type": "code",
   "execution_count": null,
   "id": "28314e04",
   "metadata": {
    "vscode": {
     "languageId": "plaintext"
    }
   },
   "outputs": [],
   "source": [
    "import mlflow\n",
    "\n",
    "# Set tracking URI to your remote or local MLflow server\n",
    "mlflow.set_tracking_uri(\"http://129.114.26.114:8000\")\n",
    "\n",
    "# Start an experiment\n",
    "mlflow.set_experiment(\"test-dummy-experiment\")\n",
    "\n",
    "with mlflow.start_run():\n",
    "    # Log parameters\n",
    "    mlflow.log_param(\"param1\", 5)\n",
    "    mlflow.log_param(\"param2\", \"test\")\n",
    "\n",
    "    # Log metrics\n",
    "    mlflow.log_metric(\"accuracy\", 0.95)\n",
    "    mlflow.log_metric(\"loss\", 0.05)\n",
    "\n",
    "    print(\"Logged dummy run to MLflow.\")\n"
   ]
  }
 ],
 "metadata": {
  "language_info": {
   "name": "python"
  }
 },
 "nbformat": 4,
 "nbformat_minor": 5
}
